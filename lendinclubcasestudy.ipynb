{
 "cells": [
  {
   "cell_type": "code",
   "execution_count": 4,
   "metadata": {},
   "outputs": [],
   "source": [
    "import pandas as pd\n",
    "import seaborn as sns\n",
    "import matplotlib.pyplot as plt"
   ]
  },
  {
   "cell_type": "code",
   "execution_count": 107,
   "metadata": {},
   "outputs": [
    {
     "name": "stderr",
     "output_type": "stream",
     "text": [
      "C:\\Users\\Sujai\\AppData\\Local\\Temp\\ipykernel_16560\\3433513100.py:3: DtypeWarning: Columns (47) have mixed types. Specify dtype option on import or set low_memory=False.\n",
      "  df=pd.read_csv(pth)\n"
     ]
    }
   ],
   "source": [
    "#Importing the csv file and reading onto a pandas dataframe\n",
    "pth=r\"C:\\Users\\Sujai\\Desktop\\Upgrad_docs\\loan\\loan.csv\"\n",
    "df=pd.read_csv(pth)"
   ]
  },
  {
   "cell_type": "code",
   "execution_count": 6,
   "metadata": {},
   "outputs": [
    {
     "name": "stdout",
     "output_type": "stream",
     "text": [
      "['Fully Paid' 'Charged Off' 'Current']\n"
     ]
    }
   ],
   "source": [
    "\n",
    "#The unique values clearly denote that there are no missing values and all the values are standard i.e there are no random values\n",
    "unique_emp_lengths = df['loan_status'].unique()\n",
    "print(unique_emp_lengths)\n"
   ]
  },
  {
   "cell_type": "code",
   "execution_count": 7,
   "metadata": {},
   "outputs": [
    {
     "name": "stdout",
     "output_type": "stream",
     "text": [
      "loan_status\n",
      "Fully Paid     32950\n",
      "Charged Off     5627\n",
      "Current         1140\n",
      "Name: count, dtype: int64\n"
     ]
    }
   ],
   "source": [
    "#Counts to check category and distribution of types of loan_status\n",
    "\n",
    "loan_status_counts = df['loan_status'].value_counts()\n",
    "print(loan_status_counts)"
   ]
  },
  {
   "cell_type": "code",
   "execution_count": 17,
   "metadata": {},
   "outputs": [
    {
     "data": {
      "text/plain": [
       "count          39717\n",
       "unique             3\n",
       "top       Fully Paid\n",
       "freq           32950\n",
       "Name: loan_status, dtype: object"
      ]
     },
     "execution_count": 17,
     "metadata": {},
     "output_type": "execute_result"
    }
   ],
   "source": [
    "df[\"loan_status\"].describe()"
   ]
  },
  {
   "cell_type": "code",
   "execution_count": 16,
   "metadata": {},
   "outputs": [
    {
     "data": {
      "image/png": "[encoded data removed]",
      "text/plain": [
       "<Figure size 640x480 with 1 Axes>"
      ]
     },
     "metadata": {},
     "output_type": "display_data"
    }
   ],
   "source": [
    "#Visual representation of proportion of loans that are fully paid, current and charged off using pie chart\n",
    "loan_status_counts.plot(kind='pie', autopct='%1.1f%%')\n",
    "plt.title('Loan Status Distribution')\n",
    "plt.show()"
   ]
  },
  {
   "cell_type": "code",
   "execution_count": 119,
   "metadata": {},
   "outputs": [],
   "source": [
    "#Checking the data quality of te column term\n",
    "def unique_check(df):\n",
    "    return(df.unique())\n",
    "\n",
    "def null_check(df): \n",
    "    return(df.isnull().sum())\n",
    "\n",
    "def value_count(df):\n",
    "    return(df.value_counts())\n",
    "\n",
    "def pivot_df(df,ind,col):\n",
    "    return(df.pivot_table(index=ind, columns=col, aggfunc='size', fill_value=0))\n",
    "\n",
    "def pivot_plot(plot_df,x_axis,y_axis,title):\n",
    "    terms = plot_df.index.to_numpy()\n",
    "    fully_paid_pct = plot_df['fully_paid_pct'].to_numpy()\n",
    "    charged_off_pct = plot_df['charged_off_pct'].to_numpy()\n",
    "\n",
    "    # Create bar chart\n",
    "    plt.figure(figsize=(10, 6))\n",
    "    plt.bar(terms, fully_paid_pct, label='Fully Paid', width=0.4, align='center')\n",
    "    plt.bar(terms, charged_off_pct, label='Charged Off', width=0.4, align='edge')\n",
    "    plt.xlabel(x_axis)\n",
    "    plt.ylabel(y_axis)\n",
    "    plt.title(title)\n",
    "    plt.xticks(rotation=0)\n",
    "    plt.legend()\n",
    "    plt.grid(axis='y', linestyle='--', alpha=0.5)\n",
    "    plt.tight_layout()\n",
    "    plt.show()\n",
    "\n",
    "\n",
    "def pct_dist(df):\n",
    "    # Calculate total loans for each term\n",
    "    df['total'] = df.sum(axis=1)\n",
    "\n",
    "# Calculate percentages\n",
    "    df['fully_paid_pct'] = (df['Fully Paid'] / df['total']) * 100\n",
    "    df['charged_off_pct'] = (df['Charged Off'] / df['total']) * 100\n",
    "    return df\n"
   ]
  },
  {
   "cell_type": "code",
   "execution_count": null,
   "metadata": {},
   "outputs": [],
   "source": [
    "unique_check(df[\"term\"])"
   ]
  },
  {
   "cell_type": "code",
   "execution_count": 85,
   "metadata": {},
   "outputs": [
    {
     "data": {
      "text/plain": [
       "term\n",
       "36 months    29096\n",
       "60 months    10621\n",
       "Name: count, dtype: int64"
      ]
     },
     "execution_count": 85,
     "metadata": {},
     "output_type": "execute_result"
    }
   ],
   "source": [
    "value_count(df[\"term\"])"
   ]
  },
  {
   "cell_type": "code",
   "execution_count": 96,
   "metadata": {},
   "outputs": [
    {
     "data": {
      "text/html": [
       "<div>\n",
       "<style scoped>\n",
       "    .dataframe tbody tr th:only-of-type {\n",
       "        vertical-align: middle;\n",
       "    }\n",
       "\n",
       "    .dataframe tbody tr th {\n",
       "        vertical-align: top;\n",
       "    }\n",
       "\n",
       "    .dataframe thead th {\n",
       "        text-align: right;\n",
       "    }\n",
       "</style>\n",
       "<table border=\"1\" class=\"dataframe\">\n",
       "  <thead>\n",
       "    <tr style=\"text-align: right;\">\n",
       "      <th>loan_status</th>\n",
       "      <th>Charged Off</th>\n",
       "      <th>Current</th>\n",
       "      <th>Fully Paid</th>\n",
       "    </tr>\n",
       "    <tr>\n",
       "      <th>term</th>\n",
       "      <th></th>\n",
       "      <th></th>\n",
       "      <th></th>\n",
       "    </tr>\n",
       "  </thead>\n",
       "  <tbody>\n",
       "    <tr>\n",
       "      <th>36 months</th>\n",
       "      <td>3227</td>\n",
       "      <td>0</td>\n",
       "      <td>25869</td>\n",
       "    </tr>\n",
       "    <tr>\n",
       "      <th>60 months</th>\n",
       "      <td>2400</td>\n",
       "      <td>1140</td>\n",
       "      <td>7081</td>\n",
       "    </tr>\n",
       "  </tbody>\n",
       "</table>\n",
       "</div>"
      ],
      "text/plain": [
       "loan_status  Charged Off  Current  Fully Paid\n",
       "term                                         \n",
       "36 months           3227        0       25869\n",
       "60 months           2400     1140        7081"
      ]
     },
     "execution_count": 96,
     "metadata": {},
     "output_type": "execute_result"
    }
   ],
   "source": [
    "#loan_status_counts = df.pivot_table(index='term', columns='loan_status', aggfunc='size', fill_value=0)\n",
    "loan_status_counts=pivot_df(df,'term','loan_status')\n",
    "loan_status_counts\n",
    "#print(loan_status_counts)"
   ]
  },
  {
   "cell_type": "code",
   "execution_count": 97,
   "metadata": {},
   "outputs": [
    {
     "data": {
      "text/html": [
       "<div>\n",
       "<style scoped>\n",
       "    .dataframe tbody tr th:only-of-type {\n",
       "        vertical-align: middle;\n",
       "    }\n",
       "\n",
       "    .dataframe tbody tr th {\n",
       "        vertical-align: top;\n",
       "    }\n",
       "\n",
       "    .dataframe thead th {\n",
       "        text-align: right;\n",
       "    }\n",
       "</style>\n",
       "<table border=\"1\" class=\"dataframe\">\n",
       "  <thead>\n",
       "    <tr style=\"text-align: right;\">\n",
       "      <th>loan_status</th>\n",
       "      <th>Charged Off</th>\n",
       "      <th>Current</th>\n",
       "      <th>Fully Paid</th>\n",
       "      <th>total</th>\n",
       "      <th>fully_paid_pct</th>\n",
       "      <th>charged_off_pct</th>\n",
       "    </tr>\n",
       "    <tr>\n",
       "      <th>term</th>\n",
       "      <th></th>\n",
       "      <th></th>\n",
       "      <th></th>\n",
       "      <th></th>\n",
       "      <th></th>\n",
       "      <th></th>\n",
       "    </tr>\n",
       "  </thead>\n",
       "  <tbody>\n",
       "    <tr>\n",
       "      <th>36 months</th>\n",
       "      <td>3227</td>\n",
       "      <td>0</td>\n",
       "      <td>25869</td>\n",
       "      <td>29096</td>\n",
       "      <td>88.909128</td>\n",
       "      <td>11.090872</td>\n",
       "    </tr>\n",
       "    <tr>\n",
       "      <th>60 months</th>\n",
       "      <td>2400</td>\n",
       "      <td>1140</td>\n",
       "      <td>7081</td>\n",
       "      <td>10621</td>\n",
       "      <td>66.669805</td>\n",
       "      <td>22.596742</td>\n",
       "    </tr>\n",
       "  </tbody>\n",
       "</table>\n",
       "</div>"
      ],
      "text/plain": [
       "loan_status  Charged Off  Current  Fully Paid  total  fully_paid_pct  \\\n",
       "term                                                                   \n",
       "36 months           3227        0       25869  29096       88.909128   \n",
       "60 months           2400     1140        7081  10621       66.669805   \n",
       "\n",
       "loan_status  charged_off_pct  \n",
       "term                          \n",
       "36 months          11.090872  \n",
       "60 months          22.596742  "
      ]
     },
     "execution_count": 97,
     "metadata": {},
     "output_type": "execute_result"
    }
   ],
   "source": [
    "pct_dist(loan_status_counts)"
   ]
  },
  {
   "cell_type": "code",
   "execution_count": 98,
   "metadata": {},
   "outputs": [
    {
     "data": {
      "image/png": "[encoded data removed]",
      "text/plain": [
       "<Figure size 1000x600 with 1 Axes>"
      ]
     },
     "metadata": {},
     "output_type": "display_data"
    }
   ],
   "source": [
    "pivot_plot(loan_status_counts,'Loan Term (Months)','Percentage (%)','Percentage of Fully Paid and Charged Off Loans by Term')"
   ]
  },
  {
   "cell_type": "code",
   "execution_count": 102,
   "metadata": {},
   "outputs": [
    {
     "data": {
      "text/plain": [
       "np.int64(0)"
      ]
     },
     "execution_count": 102,
     "metadata": {},
     "output_type": "execute_result"
    }
   ],
   "source": [
    "null_check(df[\"int_rate\"])"
   ]
  },
  {
   "cell_type": "code",
   "execution_count": 39,
   "metadata": {},
   "outputs": [],
   "source": [
    "df[\"int_rate\"].head(5)\n",
    "df[\"int_rate\"]=df['int_rate'].str.extract(r'(\\d+)').astype(int)"
   ]
  },
  {
   "cell_type": "code",
   "execution_count": 103,
   "metadata": {},
   "outputs": [
    {
     "name": "stdout",
     "output_type": "stream",
     "text": [
      "loan_status  Charged Off  Current  Fully Paid\n",
      "int_rate                                     \n",
      "5                     55        0        1275\n",
      "6                    119        2        2366\n",
      "7                    256       13        3956\n",
      "8                    155       27        1626\n",
      "9                    214       33        2045\n",
      "10                   485      101        3772\n",
      "11                   612      132        3725\n",
      "12                   525      116        2812\n",
      "13                   639       94        3283\n",
      "14                   477       88        2184\n",
      "15                   511       73        1982\n",
      "16                   478       84        1469\n",
      "17                   365      107         949\n",
      "18                   230       75         612\n",
      "19                   210       93         420\n",
      "20                   147       53         282\n",
      "21                    78       19         106\n",
      "22                    56       23          61\n",
      "23                    13        6          23\n",
      "24                     2        1           2\n"
     ]
    }
   ],
   "source": [
    "int_rate_counts=pivot_df(df,'int_rate','loan_status')\n",
    "print(int_rate_counts)"
   ]
  },
  {
   "cell_type": "code",
   "execution_count": 104,
   "metadata": {},
   "outputs": [
    {
     "data": {
      "text/html": [
       "<div>\n",
       "<style scoped>\n",
       "    .dataframe tbody tr th:only-of-type {\n",
       "        vertical-align: middle;\n",
       "    }\n",
       "\n",
       "    .dataframe tbody tr th {\n",
       "        vertical-align: top;\n",
       "    }\n",
       "\n",
       "    .dataframe thead th {\n",
       "        text-align: right;\n",
       "    }\n",
       "</style>\n",
       "<table border=\"1\" class=\"dataframe\">\n",
       "  <thead>\n",
       "    <tr style=\"text-align: right;\">\n",
       "      <th>loan_status</th>\n",
       "      <th>Charged Off</th>\n",
       "      <th>Current</th>\n",
       "      <th>Fully Paid</th>\n",
       "      <th>total</th>\n",
       "      <th>fully_paid_pct</th>\n",
       "      <th>charged_off_pct</th>\n",
       "    </tr>\n",
       "    <tr>\n",
       "      <th>int_rate</th>\n",
       "      <th></th>\n",
       "      <th></th>\n",
       "      <th></th>\n",
       "      <th></th>\n",
       "      <th></th>\n",
       "      <th></th>\n",
       "    </tr>\n",
       "  </thead>\n",
       "  <tbody>\n",
       "    <tr>\n",
       "      <th>5</th>\n",
       "      <td>55</td>\n",
       "      <td>0</td>\n",
       "      <td>1275</td>\n",
       "      <td>1330</td>\n",
       "      <td>95.864662</td>\n",
       "      <td>4.135338</td>\n",
       "    </tr>\n",
       "    <tr>\n",
       "      <th>6</th>\n",
       "      <td>119</td>\n",
       "      <td>2</td>\n",
       "      <td>2366</td>\n",
       "      <td>2487</td>\n",
       "      <td>95.134700</td>\n",
       "      <td>4.784881</td>\n",
       "    </tr>\n",
       "    <tr>\n",
       "      <th>7</th>\n",
       "      <td>256</td>\n",
       "      <td>13</td>\n",
       "      <td>3956</td>\n",
       "      <td>4225</td>\n",
       "      <td>93.633136</td>\n",
       "      <td>6.059172</td>\n",
       "    </tr>\n",
       "    <tr>\n",
       "      <th>8</th>\n",
       "      <td>155</td>\n",
       "      <td>27</td>\n",
       "      <td>1626</td>\n",
       "      <td>1808</td>\n",
       "      <td>89.933628</td>\n",
       "      <td>8.573009</td>\n",
       "    </tr>\n",
       "    <tr>\n",
       "      <th>9</th>\n",
       "      <td>214</td>\n",
       "      <td>33</td>\n",
       "      <td>2045</td>\n",
       "      <td>2292</td>\n",
       "      <td>89.223386</td>\n",
       "      <td>9.336824</td>\n",
       "    </tr>\n",
       "    <tr>\n",
       "      <th>10</th>\n",
       "      <td>485</td>\n",
       "      <td>101</td>\n",
       "      <td>3772</td>\n",
       "      <td>4358</td>\n",
       "      <td>86.553465</td>\n",
       "      <td>11.128958</td>\n",
       "    </tr>\n",
       "    <tr>\n",
       "      <th>11</th>\n",
       "      <td>612</td>\n",
       "      <td>132</td>\n",
       "      <td>3725</td>\n",
       "      <td>4469</td>\n",
       "      <td>83.351980</td>\n",
       "      <td>13.694339</td>\n",
       "    </tr>\n",
       "    <tr>\n",
       "      <th>12</th>\n",
       "      <td>525</td>\n",
       "      <td>116</td>\n",
       "      <td>2812</td>\n",
       "      <td>3453</td>\n",
       "      <td>81.436432</td>\n",
       "      <td>15.204170</td>\n",
       "    </tr>\n",
       "    <tr>\n",
       "      <th>13</th>\n",
       "      <td>639</td>\n",
       "      <td>94</td>\n",
       "      <td>3283</td>\n",
       "      <td>4016</td>\n",
       "      <td>81.748008</td>\n",
       "      <td>15.911355</td>\n",
       "    </tr>\n",
       "    <tr>\n",
       "      <th>14</th>\n",
       "      <td>477</td>\n",
       "      <td>88</td>\n",
       "      <td>2184</td>\n",
       "      <td>2749</td>\n",
       "      <td>79.447072</td>\n",
       "      <td>17.351764</td>\n",
       "    </tr>\n",
       "    <tr>\n",
       "      <th>15</th>\n",
       "      <td>511</td>\n",
       "      <td>73</td>\n",
       "      <td>1982</td>\n",
       "      <td>2566</td>\n",
       "      <td>77.240842</td>\n",
       "      <td>19.914263</td>\n",
       "    </tr>\n",
       "    <tr>\n",
       "      <th>16</th>\n",
       "      <td>478</td>\n",
       "      <td>84</td>\n",
       "      <td>1469</td>\n",
       "      <td>2031</td>\n",
       "      <td>72.328902</td>\n",
       "      <td>23.535204</td>\n",
       "    </tr>\n",
       "    <tr>\n",
       "      <th>17</th>\n",
       "      <td>365</td>\n",
       "      <td>107</td>\n",
       "      <td>949</td>\n",
       "      <td>1421</td>\n",
       "      <td>66.783955</td>\n",
       "      <td>25.686137</td>\n",
       "    </tr>\n",
       "    <tr>\n",
       "      <th>18</th>\n",
       "      <td>230</td>\n",
       "      <td>75</td>\n",
       "      <td>612</td>\n",
       "      <td>917</td>\n",
       "      <td>66.739368</td>\n",
       "      <td>25.081788</td>\n",
       "    </tr>\n",
       "    <tr>\n",
       "      <th>19</th>\n",
       "      <td>210</td>\n",
       "      <td>93</td>\n",
       "      <td>420</td>\n",
       "      <td>723</td>\n",
       "      <td>58.091286</td>\n",
       "      <td>29.045643</td>\n",
       "    </tr>\n",
       "    <tr>\n",
       "      <th>20</th>\n",
       "      <td>147</td>\n",
       "      <td>53</td>\n",
       "      <td>282</td>\n",
       "      <td>482</td>\n",
       "      <td>58.506224</td>\n",
       "      <td>30.497925</td>\n",
       "    </tr>\n",
       "    <tr>\n",
       "      <th>21</th>\n",
       "      <td>78</td>\n",
       "      <td>19</td>\n",
       "      <td>106</td>\n",
       "      <td>203</td>\n",
       "      <td>52.216749</td>\n",
       "      <td>38.423645</td>\n",
       "    </tr>\n",
       "    <tr>\n",
       "      <th>22</th>\n",
       "      <td>56</td>\n",
       "      <td>23</td>\n",
       "      <td>61</td>\n",
       "      <td>140</td>\n",
       "      <td>43.571429</td>\n",
       "      <td>40.000000</td>\n",
       "    </tr>\n",
       "    <tr>\n",
       "      <th>23</th>\n",
       "      <td>13</td>\n",
       "      <td>6</td>\n",
       "      <td>23</td>\n",
       "      <td>42</td>\n",
       "      <td>54.761905</td>\n",
       "      <td>30.952381</td>\n",
       "    </tr>\n",
       "    <tr>\n",
       "      <th>24</th>\n",
       "      <td>2</td>\n",
       "      <td>1</td>\n",
       "      <td>2</td>\n",
       "      <td>5</td>\n",
       "      <td>40.000000</td>\n",
       "      <td>40.000000</td>\n",
       "    </tr>\n",
       "  </tbody>\n",
       "</table>\n",
       "</div>"
      ],
      "text/plain": [
       "loan_status  Charged Off  Current  Fully Paid  total  fully_paid_pct  \\\n",
       "int_rate                                                               \n",
       "5                     55        0        1275   1330       95.864662   \n",
       "6                    119        2        2366   2487       95.134700   \n",
       "7                    256       13        3956   4225       93.633136   \n",
       "8                    155       27        1626   1808       89.933628   \n",
       "9                    214       33        2045   2292       89.223386   \n",
       "10                   485      101        3772   4358       86.553465   \n",
       "11                   612      132        3725   4469       83.351980   \n",
       "12                   525      116        2812   3453       81.436432   \n",
       "13                   639       94        3283   4016       81.748008   \n",
       "14                   477       88        2184   2749       79.447072   \n",
       "15                   511       73        1982   2566       77.240842   \n",
       "16                   478       84        1469   2031       72.328902   \n",
       "17                   365      107         949   1421       66.783955   \n",
       "18                   230       75         612    917       66.739368   \n",
       "19                   210       93         420    723       58.091286   \n",
       "20                   147       53         282    482       58.506224   \n",
       "21                    78       19         106    203       52.216749   \n",
       "22                    56       23          61    140       43.571429   \n",
       "23                    13        6          23     42       54.761905   \n",
       "24                     2        1           2      5       40.000000   \n",
       "\n",
       "loan_status  charged_off_pct  \n",
       "int_rate                      \n",
       "5                   4.135338  \n",
       "6                   4.784881  \n",
       "7                   6.059172  \n",
       "8                   8.573009  \n",
       "9                   9.336824  \n",
       "10                 11.128958  \n",
       "11                 13.694339  \n",
       "12                 15.204170  \n",
       "13                 15.911355  \n",
       "14                 17.351764  \n",
       "15                 19.914263  \n",
       "16                 23.535204  \n",
       "17                 25.686137  \n",
       "18                 25.081788  \n",
       "19                 29.045643  \n",
       "20                 30.497925  \n",
       "21                 38.423645  \n",
       "22                 40.000000  \n",
       "23                 30.952381  \n",
       "24                 40.000000  "
      ]
     },
     "execution_count": 104,
     "metadata": {},
     "output_type": "execute_result"
    }
   ],
   "source": [
    "pct_dist(int_rate_counts)"
   ]
  },
  {
   "cell_type": "code",
   "execution_count": 67,
   "metadata": {},
   "outputs": [
    {
     "data": {
      "image/png": "[encoded data removed]",
      "text/plain": [
       "<Figure size 1000x600 with 1 Axes>"
      ]
     },
     "metadata": {},
     "output_type": "display_data"
    }
   ],
   "source": [
    "pivot_plot(int_rate_counts,'Interest','Percentage (%)','Percentage of Fully Paid and Charged Off Loans by interest rate')"
   ]
  },
  {
   "cell_type": "code",
   "execution_count": 78,
   "metadata": {},
   "outputs": [
    {
     "name": "stdout",
     "output_type": "stream",
     "text": [
      "       loan_amnt  loan_status\n",
      "223        24250   Fully Paid\n",
      "540        13000      Current\n",
      "601        12375  Charged Off\n",
      "733        24925   Fully Paid\n",
      "1156       29100   Fully Paid\n",
      "1199       18250      Current\n",
      "1691       35000  Charged Off\n",
      "2075       21575   Fully Paid\n",
      "2447       26300  Charged Off\n",
      "2603       35000  Charged Off\n",
      "2749       30000  Charged Off\n",
      "2801       14825  Charged Off\n",
      "3006       35000  Charged Off\n",
      "3017        5700   Fully Paid\n",
      "3094       30000  Charged Off\n",
      "3655       25000   Fully Paid\n",
      "4214       23200  Charged Off\n",
      "4314       18400  Charged Off\n",
      "4652       20000      Current\n",
      "4873       12800   Fully Paid\n",
      "5267       20000   Fully Paid\n",
      "5284       25875      Current\n",
      "5570       27300   Fully Paid\n",
      "5820       17625  Charged Off\n",
      "5966       35000   Fully Paid\n",
      "6456       29700   Fully Paid\n",
      "7446       32000      Current\n",
      "7458       18000      Current\n",
      "7466       30000   Fully Paid\n",
      "7910       35000   Fully Paid\n",
      "8305       22250   Fully Paid\n",
      "9854       13650  Charged Off\n",
      "10380      13400   Fully Paid\n",
      "10533      14500   Fully Paid\n",
      "10553      19750   Fully Paid\n",
      "10661      10000  Charged Off\n",
      "11435      19600   Fully Paid\n",
      "12278       9550   Fully Paid\n",
      "13136      19750   Fully Paid\n",
      "13371      12000   Fully Paid\n",
      "14600      35000   Fully Paid\n",
      "15414      16000   Fully Paid\n"
     ]
    }
   ],
   "source": [
    "df_int23=df[df['int_rate']==23]\n",
    "\n",
    "print(df_int23[[\"loan_amnt\",\"loan_status\"]])"
   ]
  },
  {
   "cell_type": "code",
   "execution_count": 105,
   "metadata": {},
   "outputs": [
    {
     "data": {
      "text/plain": [
       "np.int64(0)"
      ]
     },
     "execution_count": 105,
     "metadata": {},
     "output_type": "execute_result"
    }
   ],
   "source": [
    "null_check(df[\"application_type\"])"
   ]
  },
  {
   "cell_type": "code",
   "execution_count": 108,
   "metadata": {},
   "outputs": [
    {
     "data": {
      "text/plain": [
       "array(['INDIVIDUAL'], dtype=object)"
      ]
     },
     "execution_count": 108,
     "metadata": {},
     "output_type": "execute_result"
    }
   ],
   "source": [
    "unique_check(df[\"application_type\"])"
   ]
  },
  {
   "cell_type": "code",
   "execution_count": 109,
   "metadata": {},
   "outputs": [
    {
     "data": {
      "text/plain": [
       "np.int64(0)"
      ]
     },
     "execution_count": 109,
     "metadata": {},
     "output_type": "execute_result"
    }
   ],
   "source": [
    "null_check(df[\"home_ownership\"])"
   ]
  },
  {
   "cell_type": "code",
   "execution_count": 110,
   "metadata": {},
   "outputs": [
    {
     "data": {
      "text/plain": [
       "array(['RENT', 'OWN', 'MORTGAGE', 'OTHER', 'NONE'], dtype=object)"
      ]
     },
     "execution_count": 110,
     "metadata": {},
     "output_type": "execute_result"
    }
   ],
   "source": [
    "unique_check(df[\"home_ownership\"])"
   ]
  },
  {
   "cell_type": "code",
   "execution_count": 111,
   "metadata": {},
   "outputs": [
    {
     "data": {
      "text/html": [
       "<div>\n",
       "<style scoped>\n",
       "    .dataframe tbody tr th:only-of-type {\n",
       "        vertical-align: middle;\n",
       "    }\n",
       "\n",
       "    .dataframe tbody tr th {\n",
       "        vertical-align: top;\n",
       "    }\n",
       "\n",
       "    .dataframe thead th {\n",
       "        text-align: right;\n",
       "    }\n",
       "</style>\n",
       "<table border=\"1\" class=\"dataframe\">\n",
       "  <thead>\n",
       "    <tr style=\"text-align: right;\">\n",
       "      <th>loan_status</th>\n",
       "      <th>Charged Off</th>\n",
       "      <th>Current</th>\n",
       "      <th>Fully Paid</th>\n",
       "    </tr>\n",
       "    <tr>\n",
       "      <th>home_ownership</th>\n",
       "      <th></th>\n",
       "      <th></th>\n",
       "      <th></th>\n",
       "    </tr>\n",
       "  </thead>\n",
       "  <tbody>\n",
       "    <tr>\n",
       "      <th>MORTGAGE</th>\n",
       "      <td>2327</td>\n",
       "      <td>638</td>\n",
       "      <td>14694</td>\n",
       "    </tr>\n",
       "    <tr>\n",
       "      <th>NONE</th>\n",
       "      <td>0</td>\n",
       "      <td>0</td>\n",
       "      <td>3</td>\n",
       "    </tr>\n",
       "    <tr>\n",
       "      <th>OTHER</th>\n",
       "      <td>18</td>\n",
       "      <td>0</td>\n",
       "      <td>80</td>\n",
       "    </tr>\n",
       "    <tr>\n",
       "      <th>OWN</th>\n",
       "      <td>443</td>\n",
       "      <td>83</td>\n",
       "      <td>2532</td>\n",
       "    </tr>\n",
       "    <tr>\n",
       "      <th>RENT</th>\n",
       "      <td>2839</td>\n",
       "      <td>419</td>\n",
       "      <td>15641</td>\n",
       "    </tr>\n",
       "  </tbody>\n",
       "</table>\n",
       "</div>"
      ],
      "text/plain": [
       "loan_status     Charged Off  Current  Fully Paid\n",
       "home_ownership                                  \n",
       "MORTGAGE               2327      638       14694\n",
       "NONE                      0        0           3\n",
       "OTHER                    18        0          80\n",
       "OWN                     443       83        2532\n",
       "RENT                   2839      419       15641"
      ]
     },
     "execution_count": 111,
     "metadata": {},
     "output_type": "execute_result"
    }
   ],
   "source": [
    "home_ownership_count=pivot_df(df,'home_ownership','loan_status')\n",
    "home_ownership_count"
   ]
  },
  {
   "cell_type": "code",
   "execution_count": 112,
   "metadata": {},
   "outputs": [
    {
     "data": {
      "text/html": [
       "<div>\n",
       "<style scoped>\n",
       "    .dataframe tbody tr th:only-of-type {\n",
       "        vertical-align: middle;\n",
       "    }\n",
       "\n",
       "    .dataframe tbody tr th {\n",
       "        vertical-align: top;\n",
       "    }\n",
       "\n",
       "    .dataframe thead th {\n",
       "        text-align: right;\n",
       "    }\n",
       "</style>\n",
       "<table border=\"1\" class=\"dataframe\">\n",
       "  <thead>\n",
       "    <tr style=\"text-align: right;\">\n",
       "      <th>loan_status</th>\n",
       "      <th>Charged Off</th>\n",
       "      <th>Current</th>\n",
       "      <th>Fully Paid</th>\n",
       "      <th>total</th>\n",
       "      <th>fully_paid_pct</th>\n",
       "      <th>charged_off_pct</th>\n",
       "    </tr>\n",
       "    <tr>\n",
       "      <th>home_ownership</th>\n",
       "      <th></th>\n",
       "      <th></th>\n",
       "      <th></th>\n",
       "      <th></th>\n",
       "      <th></th>\n",
       "      <th></th>\n",
       "    </tr>\n",
       "  </thead>\n",
       "  <tbody>\n",
       "    <tr>\n",
       "      <th>MORTGAGE</th>\n",
       "      <td>2327</td>\n",
       "      <td>638</td>\n",
       "      <td>14694</td>\n",
       "      <td>17659</td>\n",
       "      <td>83.209695</td>\n",
       "      <td>13.177417</td>\n",
       "    </tr>\n",
       "    <tr>\n",
       "      <th>NONE</th>\n",
       "      <td>0</td>\n",
       "      <td>0</td>\n",
       "      <td>3</td>\n",
       "      <td>3</td>\n",
       "      <td>100.000000</td>\n",
       "      <td>0.000000</td>\n",
       "    </tr>\n",
       "    <tr>\n",
       "      <th>OTHER</th>\n",
       "      <td>18</td>\n",
       "      <td>0</td>\n",
       "      <td>80</td>\n",
       "      <td>98</td>\n",
       "      <td>81.632653</td>\n",
       "      <td>18.367347</td>\n",
       "    </tr>\n",
       "    <tr>\n",
       "      <th>OWN</th>\n",
       "      <td>443</td>\n",
       "      <td>83</td>\n",
       "      <td>2532</td>\n",
       "      <td>3058</td>\n",
       "      <td>82.799215</td>\n",
       "      <td>14.486593</td>\n",
       "    </tr>\n",
       "    <tr>\n",
       "      <th>RENT</th>\n",
       "      <td>2839</td>\n",
       "      <td>419</td>\n",
       "      <td>15641</td>\n",
       "      <td>18899</td>\n",
       "      <td>82.760993</td>\n",
       "      <td>15.021959</td>\n",
       "    </tr>\n",
       "  </tbody>\n",
       "</table>\n",
       "</div>"
      ],
      "text/plain": [
       "loan_status     Charged Off  Current  Fully Paid  total  fully_paid_pct  \\\n",
       "home_ownership                                                            \n",
       "MORTGAGE               2327      638       14694  17659       83.209695   \n",
       "NONE                      0        0           3      3      100.000000   \n",
       "OTHER                    18        0          80     98       81.632653   \n",
       "OWN                     443       83        2532   3058       82.799215   \n",
       "RENT                   2839      419       15641  18899       82.760993   \n",
       "\n",
       "loan_status     charged_off_pct  \n",
       "home_ownership                   \n",
       "MORTGAGE              13.177417  \n",
       "NONE                   0.000000  \n",
       "OTHER                 18.367347  \n",
       "OWN                   14.486593  \n",
       "RENT                  15.021959  "
      ]
     },
     "execution_count": 112,
     "metadata": {},
     "output_type": "execute_result"
    }
   ],
   "source": [
    "pct_dist(home_ownership_count)"
   ]
  },
  {
   "cell_type": "code",
   "execution_count": 116,
   "metadata": {},
   "outputs": [
    {
     "data": {
      "text/html": [
       "<div>\n",
       "<style scoped>\n",
       "    .dataframe tbody tr th:only-of-type {\n",
       "        vertical-align: middle;\n",
       "    }\n",
       "\n",
       "    .dataframe tbody tr th {\n",
       "        vertical-align: top;\n",
       "    }\n",
       "\n",
       "    .dataframe thead th {\n",
       "        text-align: right;\n",
       "    }\n",
       "</style>\n",
       "<table border=\"1\" class=\"dataframe\">\n",
       "  <thead>\n",
       "    <tr style=\"text-align: right;\">\n",
       "      <th>loan_status</th>\n",
       "      <th>Charged Off</th>\n",
       "      <th>Current</th>\n",
       "      <th>Fully Paid</th>\n",
       "    </tr>\n",
       "    <tr>\n",
       "      <th>purpose</th>\n",
       "      <th></th>\n",
       "      <th></th>\n",
       "      <th></th>\n",
       "    </tr>\n",
       "  </thead>\n",
       "  <tbody>\n",
       "    <tr>\n",
       "      <th>car</th>\n",
       "      <td>160</td>\n",
       "      <td>50</td>\n",
       "      <td>1339</td>\n",
       "    </tr>\n",
       "    <tr>\n",
       "      <th>credit_card</th>\n",
       "      <td>542</td>\n",
       "      <td>103</td>\n",
       "      <td>4485</td>\n",
       "    </tr>\n",
       "    <tr>\n",
       "      <th>debt_consolidation</th>\n",
       "      <td>2767</td>\n",
       "      <td>586</td>\n",
       "      <td>15288</td>\n",
       "    </tr>\n",
       "    <tr>\n",
       "      <th>educational</th>\n",
       "      <td>56</td>\n",
       "      <td>0</td>\n",
       "      <td>269</td>\n",
       "    </tr>\n",
       "    <tr>\n",
       "      <th>home_improvement</th>\n",
       "      <td>347</td>\n",
       "      <td>101</td>\n",
       "      <td>2528</td>\n",
       "    </tr>\n",
       "    <tr>\n",
       "      <th>house</th>\n",
       "      <td>59</td>\n",
       "      <td>14</td>\n",
       "      <td>308</td>\n",
       "    </tr>\n",
       "    <tr>\n",
       "      <th>major_purchase</th>\n",
       "      <td>222</td>\n",
       "      <td>37</td>\n",
       "      <td>1928</td>\n",
       "    </tr>\n",
       "    <tr>\n",
       "      <th>medical</th>\n",
       "      <td>106</td>\n",
       "      <td>12</td>\n",
       "      <td>575</td>\n",
       "    </tr>\n",
       "    <tr>\n",
       "      <th>moving</th>\n",
       "      <td>92</td>\n",
       "      <td>7</td>\n",
       "      <td>484</td>\n",
       "    </tr>\n",
       "    <tr>\n",
       "      <th>other</th>\n",
       "      <td>633</td>\n",
       "      <td>128</td>\n",
       "      <td>3232</td>\n",
       "    </tr>\n",
       "    <tr>\n",
       "      <th>renewable_energy</th>\n",
       "      <td>19</td>\n",
       "      <td>1</td>\n",
       "      <td>83</td>\n",
       "    </tr>\n",
       "    <tr>\n",
       "      <th>small_business</th>\n",
       "      <td>475</td>\n",
       "      <td>74</td>\n",
       "      <td>1279</td>\n",
       "    </tr>\n",
       "    <tr>\n",
       "      <th>vacation</th>\n",
       "      <td>53</td>\n",
       "      <td>6</td>\n",
       "      <td>322</td>\n",
       "    </tr>\n",
       "    <tr>\n",
       "      <th>wedding</th>\n",
       "      <td>96</td>\n",
       "      <td>21</td>\n",
       "      <td>830</td>\n",
       "    </tr>\n",
       "  </tbody>\n",
       "</table>\n",
       "</div>"
      ],
      "text/plain": [
       "loan_status         Charged Off  Current  Fully Paid\n",
       "purpose                                             \n",
       "car                         160       50        1339\n",
       "credit_card                 542      103        4485\n",
       "debt_consolidation         2767      586       15288\n",
       "educational                  56        0         269\n",
       "home_improvement            347      101        2528\n",
       "house                        59       14         308\n",
       "major_purchase              222       37        1928\n",
       "medical                     106       12         575\n",
       "moving                       92        7         484\n",
       "other                       633      128        3232\n",
       "renewable_energy             19        1          83\n",
       "small_business              475       74        1279\n",
       "vacation                     53        6         322\n",
       "wedding                      96       21         830"
      ]
     },
     "execution_count": 116,
     "metadata": {},
     "output_type": "execute_result"
    }
   ],
   "source": [
    "purpose_count=pivot_df(df,\"purpose\",\"loan_status\")\n",
    "purpose_count"
   ]
  },
  {
   "cell_type": "code",
   "execution_count": 117,
   "metadata": {},
   "outputs": [
    {
     "data": {
      "text/html": [
       "<div>\n",
       "<style scoped>\n",
       "    .dataframe tbody tr th:only-of-type {\n",
       "        vertical-align: middle;\n",
       "    }\n",
       "\n",
       "    .dataframe tbody tr th {\n",
       "        vertical-align: top;\n",
       "    }\n",
       "\n",
       "    .dataframe thead th {\n",
       "        text-align: right;\n",
       "    }\n",
       "</style>\n",
       "<table border=\"1\" class=\"dataframe\">\n",
       "  <thead>\n",
       "    <tr style=\"text-align: right;\">\n",
       "      <th>loan_status</th>\n",
       "      <th>Charged Off</th>\n",
       "      <th>Current</th>\n",
       "      <th>Fully Paid</th>\n",
       "      <th>total</th>\n",
       "      <th>fully_paid_pct</th>\n",
       "      <th>charged_off_pct</th>\n",
       "    </tr>\n",
       "    <tr>\n",
       "      <th>purpose</th>\n",
       "      <th></th>\n",
       "      <th></th>\n",
       "      <th></th>\n",
       "      <th></th>\n",
       "      <th></th>\n",
       "      <th></th>\n",
       "    </tr>\n",
       "  </thead>\n",
       "  <tbody>\n",
       "    <tr>\n",
       "      <th>car</th>\n",
       "      <td>160</td>\n",
       "      <td>50</td>\n",
       "      <td>1339</td>\n",
       "      <td>1549</td>\n",
       "      <td>86.442866</td>\n",
       "      <td>10.329245</td>\n",
       "    </tr>\n",
       "    <tr>\n",
       "      <th>credit_card</th>\n",
       "      <td>542</td>\n",
       "      <td>103</td>\n",
       "      <td>4485</td>\n",
       "      <td>5130</td>\n",
       "      <td>87.426901</td>\n",
       "      <td>10.565302</td>\n",
       "    </tr>\n",
       "    <tr>\n",
       "      <th>debt_consolidation</th>\n",
       "      <td>2767</td>\n",
       "      <td>586</td>\n",
       "      <td>15288</td>\n",
       "      <td>18641</td>\n",
       "      <td>82.012768</td>\n",
       "      <td>14.843624</td>\n",
       "    </tr>\n",
       "    <tr>\n",
       "      <th>educational</th>\n",
       "      <td>56</td>\n",
       "      <td>0</td>\n",
       "      <td>269</td>\n",
       "      <td>325</td>\n",
       "      <td>82.769231</td>\n",
       "      <td>17.230769</td>\n",
       "    </tr>\n",
       "    <tr>\n",
       "      <th>home_improvement</th>\n",
       "      <td>347</td>\n",
       "      <td>101</td>\n",
       "      <td>2528</td>\n",
       "      <td>2976</td>\n",
       "      <td>84.946237</td>\n",
       "      <td>11.659946</td>\n",
       "    </tr>\n",
       "    <tr>\n",
       "      <th>house</th>\n",
       "      <td>59</td>\n",
       "      <td>14</td>\n",
       "      <td>308</td>\n",
       "      <td>381</td>\n",
       "      <td>80.839895</td>\n",
       "      <td>15.485564</td>\n",
       "    </tr>\n",
       "    <tr>\n",
       "      <th>major_purchase</th>\n",
       "      <td>222</td>\n",
       "      <td>37</td>\n",
       "      <td>1928</td>\n",
       "      <td>2187</td>\n",
       "      <td>88.157293</td>\n",
       "      <td>10.150892</td>\n",
       "    </tr>\n",
       "    <tr>\n",
       "      <th>medical</th>\n",
       "      <td>106</td>\n",
       "      <td>12</td>\n",
       "      <td>575</td>\n",
       "      <td>693</td>\n",
       "      <td>82.972583</td>\n",
       "      <td>15.295815</td>\n",
       "    </tr>\n",
       "    <tr>\n",
       "      <th>moving</th>\n",
       "      <td>92</td>\n",
       "      <td>7</td>\n",
       "      <td>484</td>\n",
       "      <td>583</td>\n",
       "      <td>83.018868</td>\n",
       "      <td>15.780446</td>\n",
       "    </tr>\n",
       "    <tr>\n",
       "      <th>other</th>\n",
       "      <td>633</td>\n",
       "      <td>128</td>\n",
       "      <td>3232</td>\n",
       "      <td>3993</td>\n",
       "      <td>80.941648</td>\n",
       "      <td>15.852742</td>\n",
       "    </tr>\n",
       "    <tr>\n",
       "      <th>renewable_energy</th>\n",
       "      <td>19</td>\n",
       "      <td>1</td>\n",
       "      <td>83</td>\n",
       "      <td>103</td>\n",
       "      <td>80.582524</td>\n",
       "      <td>18.446602</td>\n",
       "    </tr>\n",
       "    <tr>\n",
       "      <th>small_business</th>\n",
       "      <td>475</td>\n",
       "      <td>74</td>\n",
       "      <td>1279</td>\n",
       "      <td>1828</td>\n",
       "      <td>69.967177</td>\n",
       "      <td>25.984683</td>\n",
       "    </tr>\n",
       "    <tr>\n",
       "      <th>vacation</th>\n",
       "      <td>53</td>\n",
       "      <td>6</td>\n",
       "      <td>322</td>\n",
       "      <td>381</td>\n",
       "      <td>84.514436</td>\n",
       "      <td>13.910761</td>\n",
       "    </tr>\n",
       "    <tr>\n",
       "      <th>wedding</th>\n",
       "      <td>96</td>\n",
       "      <td>21</td>\n",
       "      <td>830</td>\n",
       "      <td>947</td>\n",
       "      <td>87.645195</td>\n",
       "      <td>10.137276</td>\n",
       "    </tr>\n",
       "  </tbody>\n",
       "</table>\n",
       "</div>"
      ],
      "text/plain": [
       "loan_status         Charged Off  Current  Fully Paid  total  fully_paid_pct  \\\n",
       "purpose                                                                       \n",
       "car                         160       50        1339   1549       86.442866   \n",
       "credit_card                 542      103        4485   5130       87.426901   \n",
       "debt_consolidation         2767      586       15288  18641       82.012768   \n",
       "educational                  56        0         269    325       82.769231   \n",
       "home_improvement            347      101        2528   2976       84.946237   \n",
       "house                        59       14         308    381       80.839895   \n",
       "major_purchase              222       37        1928   2187       88.157293   \n",
       "medical                     106       12         575    693       82.972583   \n",
       "moving                       92        7         484    583       83.018868   \n",
       "other                       633      128        3232   3993       80.941648   \n",
       "renewable_energy             19        1          83    103       80.582524   \n",
       "small_business              475       74        1279   1828       69.967177   \n",
       "vacation                     53        6         322    381       84.514436   \n",
       "wedding                      96       21         830    947       87.645195   \n",
       "\n",
       "loan_status         charged_off_pct  \n",
       "purpose                              \n",
       "car                       10.329245  \n",
       "credit_card               10.565302  \n",
       "debt_consolidation        14.843624  \n",
       "educational               17.230769  \n",
       "home_improvement          11.659946  \n",
       "house                     15.485564  \n",
       "major_purchase            10.150892  \n",
       "medical                   15.295815  \n",
       "moving                    15.780446  \n",
       "other                     15.852742  \n",
       "renewable_energy          18.446602  \n",
       "small_business            25.984683  \n",
       "vacation                  13.910761  \n",
       "wedding                   10.137276  "
      ]
     },
     "execution_count": 117,
     "metadata": {},
     "output_type": "execute_result"
    }
   ],
   "source": [
    "pct_dist(purpose_count)"
   ]
  },
  {
   "cell_type": "code",
   "execution_count": 120,
   "metadata": {},
   "outputs": [
    {
     "data": {
      "image/png": "[encoded data removed]",
      "text/plain": [
       "<Figure size 1000x600 with 1 Axes>"
      ]
     },
     "metadata": {},
     "output_type": "display_data"
    }
   ],
   "source": [
    "pivot_plot(purpose_count,'Purpose','Percentage (%)','Percentage of Fully Paid and Charged Off Loans by Purpose')"
   ]
  },
  {
   "cell_type": "code",
   "execution_count": 125,
   "metadata": {},
   "outputs": [
    {
     "data": {
      "text/plain": [
       "array(['Verified', 'Source Verified', 'Not Verified'], dtype=object)"
      ]
     },
     "execution_count": 125,
     "metadata": {},
     "output_type": "execute_result"
    }
   ],
   "source": [
    "unique_check(df[\"verification_status\"])"
   ]
  },
  {
   "cell_type": "code",
   "execution_count": 126,
   "metadata": {},
   "outputs": [
    {
     "data": {
      "text/plain": [
       "np.int64(0)"
      ]
     },
     "execution_count": 126,
     "metadata": {},
     "output_type": "execute_result"
    }
   ],
   "source": [
    "null_check(df[\"verification_status\"])"
   ]
  },
  {
   "cell_type": "code",
   "execution_count": 127,
   "metadata": {},
   "outputs": [
    {
     "data": {
      "text/html": [
       "<div>\n",
       "<style scoped>\n",
       "    .dataframe tbody tr th:only-of-type {\n",
       "        vertical-align: middle;\n",
       "    }\n",
       "\n",
       "    .dataframe tbody tr th {\n",
       "        vertical-align: top;\n",
       "    }\n",
       "\n",
       "    .dataframe thead th {\n",
       "        text-align: right;\n",
       "    }\n",
       "</style>\n",
       "<table border=\"1\" class=\"dataframe\">\n",
       "  <thead>\n",
       "    <tr style=\"text-align: right;\">\n",
       "      <th>loan_status</th>\n",
       "      <th>Charged Off</th>\n",
       "      <th>Current</th>\n",
       "      <th>Fully Paid</th>\n",
       "    </tr>\n",
       "    <tr>\n",
       "      <th>verification_status</th>\n",
       "      <th></th>\n",
       "      <th></th>\n",
       "      <th></th>\n",
       "    </tr>\n",
       "  </thead>\n",
       "  <tbody>\n",
       "    <tr>\n",
       "      <th>Not Verified</th>\n",
       "      <td>2142</td>\n",
       "      <td>227</td>\n",
       "      <td>14552</td>\n",
       "    </tr>\n",
       "    <tr>\n",
       "      <th>Source Verified</th>\n",
       "      <td>1434</td>\n",
       "      <td>310</td>\n",
       "      <td>8243</td>\n",
       "    </tr>\n",
       "    <tr>\n",
       "      <th>Verified</th>\n",
       "      <td>2051</td>\n",
       "      <td>603</td>\n",
       "      <td>10155</td>\n",
       "    </tr>\n",
       "  </tbody>\n",
       "</table>\n",
       "</div>"
      ],
      "text/plain": [
       "loan_status          Charged Off  Current  Fully Paid\n",
       "verification_status                                  \n",
       "Not Verified                2142      227       14552\n",
       "Source Verified             1434      310        8243\n",
       "Verified                    2051      603       10155"
      ]
     },
     "execution_count": 127,
     "metadata": {},
     "output_type": "execute_result"
    }
   ],
   "source": [
    "verification_count=pivot_df(df,\"verification_status\",\"loan_status\")\n",
    "verification_count"
   ]
  },
  {
   "cell_type": "code",
   "execution_count": 128,
   "metadata": {},
   "outputs": [
    {
     "data": {
      "text/html": [
       "<div>\n",
       "<style scoped>\n",
       "    .dataframe tbody tr th:only-of-type {\n",
       "        vertical-align: middle;\n",
       "    }\n",
       "\n",
       "    .dataframe tbody tr th {\n",
       "        vertical-align: top;\n",
       "    }\n",
       "\n",
       "    .dataframe thead th {\n",
       "        text-align: right;\n",
       "    }\n",
       "</style>\n",
       "<table border=\"1\" class=\"dataframe\">\n",
       "  <thead>\n",
       "    <tr style=\"text-align: right;\">\n",
       "      <th>loan_status</th>\n",
       "      <th>Charged Off</th>\n",
       "      <th>Current</th>\n",
       "      <th>Fully Paid</th>\n",
       "      <th>total</th>\n",
       "      <th>fully_paid_pct</th>\n",
       "      <th>charged_off_pct</th>\n",
       "    </tr>\n",
       "    <tr>\n",
       "      <th>verification_status</th>\n",
       "      <th></th>\n",
       "      <th></th>\n",
       "      <th></th>\n",
       "      <th></th>\n",
       "      <th></th>\n",
       "      <th></th>\n",
       "    </tr>\n",
       "  </thead>\n",
       "  <tbody>\n",
       "    <tr>\n",
       "      <th>Not Verified</th>\n",
       "      <td>2142</td>\n",
       "      <td>227</td>\n",
       "      <td>14552</td>\n",
       "      <td>16921</td>\n",
       "      <td>85.999645</td>\n",
       "      <td>12.658826</td>\n",
       "    </tr>\n",
       "    <tr>\n",
       "      <th>Source Verified</th>\n",
       "      <td>1434</td>\n",
       "      <td>310</td>\n",
       "      <td>8243</td>\n",
       "      <td>9987</td>\n",
       "      <td>82.537298</td>\n",
       "      <td>14.358666</td>\n",
       "    </tr>\n",
       "    <tr>\n",
       "      <th>Verified</th>\n",
       "      <td>2051</td>\n",
       "      <td>603</td>\n",
       "      <td>10155</td>\n",
       "      <td>12809</td>\n",
       "      <td>79.280194</td>\n",
       "      <td>16.012179</td>\n",
       "    </tr>\n",
       "  </tbody>\n",
       "</table>\n",
       "</div>"
      ],
      "text/plain": [
       "loan_status          Charged Off  Current  Fully Paid  total  fully_paid_pct  \\\n",
       "verification_status                                                            \n",
       "Not Verified                2142      227       14552  16921       85.999645   \n",
       "Source Verified             1434      310        8243   9987       82.537298   \n",
       "Verified                    2051      603       10155  12809       79.280194   \n",
       "\n",
       "loan_status          charged_off_pct  \n",
       "verification_status                   \n",
       "Not Verified               12.658826  \n",
       "Source Verified            14.358666  \n",
       "Verified                   16.012179  "
      ]
     },
     "execution_count": 128,
     "metadata": {},
     "output_type": "execute_result"
    }
   ],
   "source": [
    "pct_dist(verification_count)"
   ]
  },
  {
   "cell_type": "code",
   "execution_count": 135,
   "metadata": {},
   "outputs": [
    {
     "data": {
      "text/plain": [
       "np.int64(0)"
      ]
     },
     "execution_count": 135,
     "metadata": {},
     "output_type": "execute_result"
    }
   ],
   "source": [
    "null_check(df[\"pub_rec\"])"
   ]
  },
  {
   "cell_type": "code",
   "execution_count": 136,
   "metadata": {},
   "outputs": [
    {
     "data": {
      "text/plain": [
       "array([0, 1, 2, 3, 4])"
      ]
     },
     "execution_count": 136,
     "metadata": {},
     "output_type": "execute_result"
    }
   ],
   "source": [
    "unique_check(df[\"pub_rec\"])"
   ]
  },
  {
   "cell_type": "code",
   "execution_count": 133,
   "metadata": {},
   "outputs": [
    {
     "data": {
      "text/html": [
       "<div>\n",
       "<style scoped>\n",
       "    .dataframe tbody tr th:only-of-type {\n",
       "        vertical-align: middle;\n",
       "    }\n",
       "\n",
       "    .dataframe tbody tr th {\n",
       "        vertical-align: top;\n",
       "    }\n",
       "\n",
       "    .dataframe thead th {\n",
       "        text-align: right;\n",
       "    }\n",
       "</style>\n",
       "<table border=\"1\" class=\"dataframe\">\n",
       "  <thead>\n",
       "    <tr style=\"text-align: right;\">\n",
       "      <th>loan_status</th>\n",
       "      <th>Charged Off</th>\n",
       "      <th>Current</th>\n",
       "      <th>Fully Paid</th>\n",
       "    </tr>\n",
       "    <tr>\n",
       "      <th>pub_rec</th>\n",
       "      <th></th>\n",
       "      <th></th>\n",
       "      <th></th>\n",
       "    </tr>\n",
       "  </thead>\n",
       "  <tbody>\n",
       "    <tr>\n",
       "      <th>0</th>\n",
       "      <td>5160</td>\n",
       "      <td>1094</td>\n",
       "      <td>31347</td>\n",
       "    </tr>\n",
       "    <tr>\n",
       "      <th>1</th>\n",
       "      <td>457</td>\n",
       "      <td>43</td>\n",
       "      <td>1556</td>\n",
       "    </tr>\n",
       "    <tr>\n",
       "      <th>2</th>\n",
       "      <td>10</td>\n",
       "      <td>3</td>\n",
       "      <td>38</td>\n",
       "    </tr>\n",
       "    <tr>\n",
       "      <th>3</th>\n",
       "      <td>0</td>\n",
       "      <td>0</td>\n",
       "      <td>7</td>\n",
       "    </tr>\n",
       "    <tr>\n",
       "      <th>4</th>\n",
       "      <td>0</td>\n",
       "      <td>0</td>\n",
       "      <td>2</td>\n",
       "    </tr>\n",
       "  </tbody>\n",
       "</table>\n",
       "</div>"
      ],
      "text/plain": [
       "loan_status  Charged Off  Current  Fully Paid\n",
       "pub_rec                                      \n",
       "0                   5160     1094       31347\n",
       "1                    457       43        1556\n",
       "2                     10        3          38\n",
       "3                      0        0           7\n",
       "4                      0        0           2"
      ]
     },
     "execution_count": 133,
     "metadata": {},
     "output_type": "execute_result"
    }
   ],
   "source": [
    "pub_rec_count=pivot_df(df,\"pub_rec\",\"loan_status\")\n",
    "pub_rec_count"
   ]
  },
  {
   "cell_type": "code",
   "execution_count": 134,
   "metadata": {},
   "outputs": [
    {
     "data": {
      "text/html": [
       "<div>\n",
       "<style scoped>\n",
       "    .dataframe tbody tr th:only-of-type {\n",
       "        vertical-align: middle;\n",
       "    }\n",
       "\n",
       "    .dataframe tbody tr th {\n",
       "        vertical-align: top;\n",
       "    }\n",
       "\n",
       "    .dataframe thead th {\n",
       "        text-align: right;\n",
       "    }\n",
       "</style>\n",
       "<table border=\"1\" class=\"dataframe\">\n",
       "  <thead>\n",
       "    <tr style=\"text-align: right;\">\n",
       "      <th>loan_status</th>\n",
       "      <th>Charged Off</th>\n",
       "      <th>Current</th>\n",
       "      <th>Fully Paid</th>\n",
       "      <th>total</th>\n",
       "      <th>fully_paid_pct</th>\n",
       "      <th>charged_off_pct</th>\n",
       "    </tr>\n",
       "    <tr>\n",
       "      <th>pub_rec</th>\n",
       "      <th></th>\n",
       "      <th></th>\n",
       "      <th></th>\n",
       "      <th></th>\n",
       "      <th></th>\n",
       "      <th></th>\n",
       "    </tr>\n",
       "  </thead>\n",
       "  <tbody>\n",
       "    <tr>\n",
       "      <th>0</th>\n",
       "      <td>5160</td>\n",
       "      <td>1094</td>\n",
       "      <td>31347</td>\n",
       "      <td>37601</td>\n",
       "      <td>83.367464</td>\n",
       "      <td>13.723039</td>\n",
       "    </tr>\n",
       "    <tr>\n",
       "      <th>1</th>\n",
       "      <td>457</td>\n",
       "      <td>43</td>\n",
       "      <td>1556</td>\n",
       "      <td>2056</td>\n",
       "      <td>75.680934</td>\n",
       "      <td>22.227626</td>\n",
       "    </tr>\n",
       "    <tr>\n",
       "      <th>2</th>\n",
       "      <td>10</td>\n",
       "      <td>3</td>\n",
       "      <td>38</td>\n",
       "      <td>51</td>\n",
       "      <td>74.509804</td>\n",
       "      <td>19.607843</td>\n",
       "    </tr>\n",
       "    <tr>\n",
       "      <th>3</th>\n",
       "      <td>0</td>\n",
       "      <td>0</td>\n",
       "      <td>7</td>\n",
       "      <td>7</td>\n",
       "      <td>100.000000</td>\n",
       "      <td>0.000000</td>\n",
       "    </tr>\n",
       "    <tr>\n",
       "      <th>4</th>\n",
       "      <td>0</td>\n",
       "      <td>0</td>\n",
       "      <td>2</td>\n",
       "      <td>2</td>\n",
       "      <td>100.000000</td>\n",
       "      <td>0.000000</td>\n",
       "    </tr>\n",
       "  </tbody>\n",
       "</table>\n",
       "</div>"
      ],
      "text/plain": [
       "loan_status  Charged Off  Current  Fully Paid  total  fully_paid_pct  \\\n",
       "pub_rec                                                                \n",
       "0                   5160     1094       31347  37601       83.367464   \n",
       "1                    457       43        1556   2056       75.680934   \n",
       "2                     10        3          38     51       74.509804   \n",
       "3                      0        0           7      7      100.000000   \n",
       "4                      0        0           2      2      100.000000   \n",
       "\n",
       "loan_status  charged_off_pct  \n",
       "pub_rec                       \n",
       "0                  13.723039  \n",
       "1                  22.227626  \n",
       "2                  19.607843  \n",
       "3                   0.000000  \n",
       "4                   0.000000  "
      ]
     },
     "execution_count": 134,
     "metadata": {},
     "output_type": "execute_result"
    }
   ],
   "source": [
    "pct_dist(pub_rec_count)"
   ]
  },
  {
   "cell_type": "code",
   "execution_count": null,
   "metadata": {},
   "outputs": [],
   "source": [
    "pivot_plot(pub_rec_count,'Purpose','Percentage (%)','Percentage of Fully Paid and Charged Off Loans by Purpose')"
   ]
  }
 ],
 "metadata": {
  "kernelspec": {
   "display_name": "Python 3",
   "language": "python",
   "name": "python3"
  },
  "language_info": {
   "codemirror_mode": {
    "name": "ipython",
    "version": 3
   },
   "file_extension": ".py",
   "mimetype": "text/x-python",
   "name": "python",
   "nbconvert_exporter": "python",
   "pygments_lexer": "ipython3",
   "version": "3.12.5"
  }
 },
 "nbformat": 4,
 "nbformat_minor": 2
}
